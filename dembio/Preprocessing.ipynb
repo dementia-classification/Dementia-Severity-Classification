{
 "nbformat": 4,
 "nbformat_minor": 0,
 "metadata": {
  "colab": {
   "name": "Preprocessing.ipynb",
   "provenance": []
  },
  "kernelspec": {
   "name": "python3",
   "language": "python",
   "display_name": "Python 3"
  }
 },
 "cells": [
  {
   "cell_type": "code",
   "metadata": {
    "id": "peOJD8lmldZw"
   },
   "source": [
    "import glob\n",
    "import os\n",
    "\n",
    "import cv2\n",
    "import numpy as np\n",
    "import pydicom"
   ],
   "execution_count": 1,
   "outputs": []
  },
  {
   "cell_type": "code",
   "metadata": {
    "id": "ZYF8A071lrvx"
   },
   "source": [
    "def save_pic(addr, mr_slice, src, thresh):\n",
    "    lower = np.array([thresh])  # -- Lower range --\n",
    "    upper = np.array([255])  # -- Upper range --\n",
    "    mask = cv2.inRange(src, lower, upper)\n",
    "    res = cv2.bitwise_and(src, src, mask=mask)\n",
    "    cv2.imwrite(addr + str(mr_slice) + '.png', res)\n",
    "\n"
   ],
   "execution_count": 2,
   "outputs": []
  },
  {
   "cell_type": "code",
   "metadata": {
    "id": "qthHbHIRa5py"
   },
   "source": [
    "def save_pic2(addr, mr_slice, src, thresh):\n",
    "    lower = np.array([0])  # -- Lower range --\n",
    "    upper = np.array([thresh])  # -- Upper range --\n",
    "    mask = cv2.inRange(src, lower, upper)\n",
    "    res = cv2.bitwise_and(src, src, mask=mask)\n",
    "    cv2.imwrite(addr + str(mr_slice) + '.png', res)\n"
   ],
   "execution_count": 3,
   "outputs": []
  },
  {
   "cell_type": "code",
   "metadata": {
    "id": "uP6W05XnJemv"
   },
   "source": [
    "def save_pic3(addr, mr_slice, src, thresh):\n",
    "    lower = np.array([0])  # -- Lower range --\n",
    "    upper = np.array([thresh])  # -- Upper range --\n",
    "    mask = cv2.inRange(src, lower, upper)\n",
    "    res = cv2.bitwise_and(src, src, mask=mask)\n",
    "\n",
    "    lower = np.array([thresh])  # -- Lower range --\n",
    "    upper = np.array([255])  # -- Upper range --\n",
    "    mask = cv2.inRange(src, lower, upper)\n",
    "    new_src = cv2.morphologyEx(res, cv2.MORPH_CLOSE, cv2.getStructuringElement(cv2.MORPH_RECT, (11, 11)))\n",
    "    res_close = cv2.bitwise_and(new_src, new_src, mask=mask)\n",
    "\n",
    "    cv2.imwrite(addr + str(mr_slice) + '.png', res + res_close)"
   ],
   "execution_count": 4,
   "outputs": []
  },
  {
   "cell_type": "code",
   "metadata": {
    "id": "jvxlsOGOl0Fu"
   },
   "source": [
    "def _manual_otsu(img, ret):\n",
    "    new_img = []\n",
    "    for pixel_list in img:\n",
    "        for pixel in pixel_list:\n",
    "            if pixel > ret:\n",
    "                new_img.append(pixel)\n",
    "\n",
    "    new_img = np.array(new_img)\n",
    "    hist = cv2.calcHist([new_img], [0], None, [256], [0, 256])\n",
    "    hist_norm = hist.ravel() / hist.max()\n",
    "    q = hist_norm.cumsum()\n",
    "    bins = np.arange(256)\n",
    "    fn_min = np.inf\n",
    "    thresh = -1\n",
    "\n",
    "    for j in range(1, 256):\n",
    "        p1, p2 = np.hsplit(hist_norm, [j])  # probabilities\n",
    "        q1, q2 = q[j], q[255] - q[j]  # cum sum of classes\n",
    "        b1, b2 = np.hsplit(bins, [j])  # weights\n",
    "        # finding means and variances\n",
    "        m1, m2 = np.sum(p1 * b1) / q1, np.sum(p2 * b2) / q2\n",
    "        v1, v2 = np.sum(((b1 - m1) ** 2) * p1) / q1, np.sum(((b2 - m2) ** 2) * p2) / q2\n",
    "        # calculates the minimization function\n",
    "        fn = v1 * q1 + v2 * q2\n",
    "        if fn < fn_min:\n",
    "            fn_min = fn\n",
    "            thresh = j\n",
    "    return thresh, new_img.shape\n",
    "\n",
    "\n",
    "def color_detection(img, addr, mr_slice):\n",
    "    first_thresh, imgf = cv2.threshold(img, 150, 255, cv2.THRESH_BINARY + cv2.THRESH_OTSU)\n",
    "\n",
    "    thresh = first_thresh\n",
    "    i = 0\n",
    "\n",
    "    while i < 3:\n",
    "        sec_thresh, shape = _manual_otsu(img, thresh)\n",
    "        if i == 2:\n",
    "            save_pic3(addr, mr_slice, img, sec_thresh)\n",
    "        thresh = sec_thresh\n",
    "        i += 1\n",
    "\n",
    "    return first_thresh\n",
    "\n"
   ],
   "execution_count": 5,
   "outputs": []
  },
  {
   "cell_type": "code",
   "metadata": {
    "id": "yh4jvRpMn_WO",
    "pycharm": {
     "name": "#%%\n"
    }
   },
   "source": [
    "dataDir = \"../data/Dataset/\"\n",
    "destDir = \"../data/Preprocessed_Dataset/\"\n",
    "try:\n",
    "    os.mkdir(destDir)\n",
    "except FileExistsError:\n",
    "    for f in glob.glob(destDir):\n",
    "        os.remove(f)\n",
    "patients = os.listdir(dataDir)\n",
    "n_patients = os.listdir(destDir)\n",
    "patients.sort()\n",
    "new_patient = 1\n",
    "\n",
    "for patient in patients:\n",
    "    slices = []\n",
    "    path = dataDir + str(patient)\n",
    "    os.mkdir(destDir + str(patient))\n",
    "    for file in os.listdir(path):\n",
    "        slices.append((pydicom.dcmread(os.path.join(path, file)).pixel_array.astype(float), file))\n",
    "    for s in range(len(slices)):\n",
    "        color_detection(np.array(slices[s][0] * 255.0 / np.max(slices[s][0]), dtype=np.uint8),\n",
    "                        destDir + str(patient) + '/', int(slices[s][1]))"
   ],
   "execution_count": 6,
   "outputs": [
    {
     "name": "stderr",
     "output_type": "stream",
     "text": [
      "/Users/reza/PycharmProjects/Medical-Imaging/venv/lib/python3.7/site-packages/ipykernel_launcher.py:21: RuntimeWarning: invalid value encountered in double_scalars\n",
      "/Users/reza/PycharmProjects/Medical-Imaging/venv/lib/python3.7/site-packages/ipykernel_launcher.py:21: RuntimeWarning: divide by zero encountered in double_scalars\n",
      "/Users/reza/PycharmProjects/Medical-Imaging/venv/lib/python3.7/site-packages/ipykernel_launcher.py:24: RuntimeWarning: invalid value encountered in double_scalars\n"
     ]
    }
   ]
  },
  {
   "cell_type": "code",
   "execution_count": null,
   "outputs": [],
   "source": [],
   "metadata": {
    "collapsed": false,
    "pycharm": {
     "name": "#%%\n"
    }
   }
  }
 ]
}